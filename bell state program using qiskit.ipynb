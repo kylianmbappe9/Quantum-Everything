{
 "cells": [
  {
   "cell_type": "code",
   "execution_count": 1,
   "metadata": {},
   "outputs": [
    {
     "name": "stdout",
     "output_type": "stream",
     "text": [
      "     ┌───┐     \n",
      "q_0: ┤ H ├──■──\n",
      "     └───┘┌─┴─┐\n",
      "q_1: ─────┤ X ├\n",
      "          └───┘\n"
     ]
    }
   ],
   "source": [
    "import qiskit\n",
    "from qiskit import QuantumCircuit\n",
    "from qiskit.primitives import Estimator\n",
    "\n",
    "qc = QuantumCircuit(2)\n",
    "qc.h(0)\n",
    "qc.cx(0, 1)\n",
    "print(qc)\n"
   ]
  },
  {
   "cell_type": "code",
   "execution_count": 2,
   "metadata": {},
   "outputs": [
    {
     "data": {
      "text/plain": [
       "EstimatorResult(values=array([1., 0., 0., 1., 0., 0.]), metadata=[{}, {}, {}, {}, {}, {}])"
      ]
     },
     "execution_count": 2,
     "metadata": {},
     "output_type": "execute_result"
    }
   ],
   "source": [
    "import qiskit\n",
    "from qiskit.quantum_info import Pauli\n",
    "from qiskit.primitives import Estimator\n",
    "\n",
    "ZZ = Pauli('ZZ')\n",
    "ZI = Pauli('ZI')\n",
    "IZ = Pauli('IZ')\n",
    "XX = Pauli('XX')\n",
    "XI = Pauli('XI')\n",
    "IX = Pauli('IX')\n",
    "observables = ['ZZ', 'ZI', 'IZ', 'XX', 'XI', 'IX']\n",
    "estimate = Estimator()\n",
    "\n",
    "counts = estimate.run([qc] * len(observables), observables)\n",
    "counts.result()\n",
    "               \n"
   ]
  },
  {
   "cell_type": "code",
   "execution_count": 3,
   "metadata": {},
   "outputs": [
    {
     "data": {
      "image/png": "[encoded data removed]",
      "text/plain": [
       "<Figure size 640x480 with 1 Axes>"
      ]
     },
     "metadata": {},
     "output_type": "display_data"
    }
   ],
   "source": [
    "import numpy as np\n",
    "import matplotlib.pyplot as plt\n",
    "\n",
    "data = ['ZZ', 'ZI', 'IZ', 'XX', 'XI', 'IX']\n",
    "\n",
    "values = counts.result()\n",
    "plt.plot(data, values, '-o')\n",
    "plt.xlabel('Number of observations')\n",
    "plt.ylabel('Estimation Value')\n",
    "plt.show()\n",
    "        \n",
    "#when having two entangled state, it is always at a maximum entangled state meaning the probability of ZZ is 1 \n",
    "#as in 100% which is the same for XX given that both of them are entangled which can either give |00> or |11> \n",
    "#depending on what matrix is used\n",
    "#however for the single entangled state, we have a probability of 0 because it is at the lowest state\n",
    "#middle state ZX XZ YZ YX"
   ]
  },
  {
   "cell_type": "markdown",
   "metadata": {},
   "source": [
    "DRAWING QUANTUM CIRCUIT FOR N QUBITS"
   ]
  },
  {
   "cell_type": "code",
   "execution_count": 4,
   "metadata": {},
   "outputs": [
    {
     "name": "stdout",
     "output_type": "stream",
     "text": [
      "     ┌───┐                                             \n",
      "q_0: ┤ H ├──■──────────────────────────────────────────\n",
      "     └───┘┌─┴─┐                                        \n",
      "q_1: ─────┤ X ├──■─────────────────────────────────────\n",
      "          └───┘┌─┴─┐                                   \n",
      "q_2: ──────────┤ X ├──■────────────────────────────────\n",
      "               └───┘┌─┴─┐                              \n",
      "q_3: ───────────────┤ X ├──■───────────────────────────\n",
      "                    └───┘┌─┴─┐                         \n",
      "q_4: ────────────────────┤ X ├──■──────────────────────\n",
      "                         └───┘┌─┴─┐                    \n",
      "q_5: ─────────────────────────┤ X ├──■─────────────────\n",
      "                              └───┘┌─┴─┐               \n",
      "q_6: ──────────────────────────────┤ X ├──■────────────\n",
      "                                   └───┘┌─┴─┐          \n",
      "q_7: ───────────────────────────────────┤ X ├──■───────\n",
      "                                        └───┘┌─┴─┐     \n",
      "q_8: ────────────────────────────────────────┤ X ├──■──\n",
      "                                             └───┘┌─┴─┐\n",
      "q_9: ─────────────────────────────────────────────┤ X ├\n",
      "                                                  └───┘\n"
     ]
    }
   ],
   "source": [
    "def n_circuit_code(n):\n",
    "    qc = QuantumCircuit(n)\n",
    "    qc.h(0)\n",
    "    for i in range(n - 1):\n",
    "        qc.cx(i, i + 1)\n",
    "    return qc\n",
    "\n",
    "n = 10\n",
    "solution = n_circuit_code(n)\n",
    "print(solution)"
   ]
  },
  {
   "cell_type": "markdown",
   "metadata": {},
   "source": [
    "estimating the noise as the distance increases from 0 to 1, then 0 to 2 and so on until 0 to n-1"
   ]
  },
  {
   "cell_type": "code",
   "execution_count": 8,
   "metadata": {},
   "outputs": [
    {
     "ename": "ValueError",
     "evalue": "The number of circuits (1000) does not match the number of observables (1).",
     "output_type": "error",
     "traceback": [
      "\u001b[1;31m---------------------------------------------------------------------------\u001b[0m",
      "\u001b[1;31mValueError\u001b[0m                                Traceback (most recent call last)",
      "Cell \u001b[1;32mIn[8], line 20\u001b[0m\n\u001b[0;32m     16\u001b[0m     \u001b[38;5;28;01mreturn\u001b[39;00m Estimator()\u001b[38;5;241m.\u001b[39mrun([qc] \u001b[38;5;241m*\u001b[39m \u001b[38;5;241m1000\u001b[39m, [\u001b[38;5;124m'\u001b[39m\u001b[38;5;124mZ\u001b[39m\u001b[38;5;124m'\u001b[39m])\u001b[38;5;241m.\u001b[39mresult()\u001b[38;5;241m.\u001b[39mget_counts(qc)[\u001b[38;5;124m'\u001b[39m\u001b[38;5;124m1\u001b[39m\u001b[38;5;124m'\u001b[39m]\n\u001b[0;32m     18\u001b[0m distances \u001b[38;5;241m=\u001b[39m np\u001b[38;5;241m.\u001b[39marange(\u001b[38;5;241m0\u001b[39m, \u001b[38;5;241m10\u001b[39m)\n\u001b[1;32m---> 20\u001b[0m estimates \u001b[38;5;241m=\u001b[39m [\u001b[43mestimate_noise\u001b[49m\u001b[43m(\u001b[49m\u001b[38;5;241;43m10\u001b[39;49m\u001b[43m,\u001b[49m\u001b[43m \u001b[49m\u001b[43mdistance\u001b[49m\u001b[43m)\u001b[49m \u001b[38;5;28;01mfor\u001b[39;00m distance \u001b[38;5;129;01min\u001b[39;00m distances]\n\u001b[0;32m     22\u001b[0m \u001b[38;5;28mprint\u001b[39m(estimates)\n",
      "Cell \u001b[1;32mIn[8], line 16\u001b[0m, in \u001b[0;36mestimate_noise\u001b[1;34m(n, distance)\u001b[0m\n\u001b[0;32m     14\u001b[0m qc\u001b[38;5;241m.\u001b[39mbarrier()\n\u001b[0;32m     15\u001b[0m qc\u001b[38;5;241m.\u001b[39mrz(distance, n \u001b[38;5;241m-\u001b[39m \u001b[38;5;241m1\u001b[39m)\n\u001b[1;32m---> 16\u001b[0m \u001b[38;5;28;01mreturn\u001b[39;00m \u001b[43mEstimator\u001b[49m\u001b[43m(\u001b[49m\u001b[43m)\u001b[49m\u001b[38;5;241;43m.\u001b[39;49m\u001b[43mrun\u001b[49m\u001b[43m(\u001b[49m\u001b[43m[\u001b[49m\u001b[43mqc\u001b[49m\u001b[43m]\u001b[49m\u001b[43m \u001b[49m\u001b[38;5;241;43m*\u001b[39;49m\u001b[43m \u001b[49m\u001b[38;5;241;43m1000\u001b[39;49m\u001b[43m,\u001b[49m\u001b[43m \u001b[49m\u001b[43m[\u001b[49m\u001b[38;5;124;43m'\u001b[39;49m\u001b[38;5;124;43mZ\u001b[39;49m\u001b[38;5;124;43m'\u001b[39;49m\u001b[43m]\u001b[49m\u001b[43m)\u001b[49m\u001b[38;5;241m.\u001b[39mresult()\u001b[38;5;241m.\u001b[39mget_counts(qc)[\u001b[38;5;124m'\u001b[39m\u001b[38;5;124m1\u001b[39m\u001b[38;5;124m'\u001b[39m]\n",
      "File \u001b[1;32mc:\\Users\\sarkersaadahmed\\AppData\\Local\\miniconda3\\Lib\\site-packages\\qiskit\\primitives\\base\\base_estimator.py:164\u001b[0m, in \u001b[0;36mBaseEstimatorV1.run\u001b[1;34m(self, circuits, observables, parameter_values, **run_options)\u001b[0m\n\u001b[0;32m    127\u001b[0m \u001b[38;5;250m\u001b[39m\u001b[38;5;124;03m\"\"\"Run the job of the estimation of expectation value(s).\u001b[39;00m\n\u001b[0;32m    128\u001b[0m \n\u001b[0;32m    129\u001b[0m \u001b[38;5;124;03m``circuits``, ``observables``, and ``parameter_values`` should have the same\u001b[39;00m\n\u001b[1;32m   (...)\u001b[0m\n\u001b[0;32m    161\u001b[0m \u001b[38;5;124;03m    ValueError: Invalid argument values given.\u001b[39;00m\n\u001b[0;32m    162\u001b[0m \u001b[38;5;124;03m\"\"\"\u001b[39;00m\n\u001b[0;32m    163\u001b[0m \u001b[38;5;66;03m# Validation\u001b[39;00m\n\u001b[1;32m--> 164\u001b[0m circuits, observables, parameter_values \u001b[38;5;241m=\u001b[39m \u001b[43mvalidation\u001b[49m\u001b[38;5;241;43m.\u001b[39;49m\u001b[43m_validate_estimator_args\u001b[49m\u001b[43m(\u001b[49m\n\u001b[0;32m    165\u001b[0m \u001b[43m    \u001b[49m\u001b[43mcircuits\u001b[49m\u001b[43m,\u001b[49m\u001b[43m \u001b[49m\u001b[43mobservables\u001b[49m\u001b[43m,\u001b[49m\u001b[43m \u001b[49m\u001b[43mparameter_values\u001b[49m\n\u001b[0;32m    166\u001b[0m \u001b[43m\u001b[49m\u001b[43m)\u001b[49m\n\u001b[0;32m    168\u001b[0m \u001b[38;5;66;03m# Options\u001b[39;00m\n\u001b[0;32m    169\u001b[0m run_opts \u001b[38;5;241m=\u001b[39m copy(\u001b[38;5;28mself\u001b[39m\u001b[38;5;241m.\u001b[39moptions)\n",
      "File \u001b[1;32mc:\\Users\\sarkersaadahmed\\AppData\\Local\\miniconda3\\Lib\\site-packages\\qiskit\\primitives\\base\\validation.py:64\u001b[0m, in \u001b[0;36m_validate_estimator_args\u001b[1;34m(circuits, observables, parameter_values)\u001b[0m\n\u001b[0;32m     62\u001b[0m \u001b[38;5;66;03m# Cross-validation\u001b[39;00m\n\u001b[0;32m     63\u001b[0m _cross_validate_circuits_parameter_values(circuits, parameter_values)\n\u001b[1;32m---> 64\u001b[0m \u001b[43m_cross_validate_circuits_observables\u001b[49m\u001b[43m(\u001b[49m\u001b[43mcircuits\u001b[49m\u001b[43m,\u001b[49m\u001b[43m \u001b[49m\u001b[43mobservables\u001b[49m\u001b[43m)\u001b[49m\n\u001b[0;32m     66\u001b[0m \u001b[38;5;28;01mreturn\u001b[39;00m circuits, observables, parameter_values\n",
      "File \u001b[1;32mc:\\Users\\sarkersaadahmed\\AppData\\Local\\miniconda3\\Lib\\site-packages\\qiskit\\primitives\\base\\validation.py:198\u001b[0m, in \u001b[0;36m_cross_validate_circuits_observables\u001b[1;34m(circuits, observables)\u001b[0m\n\u001b[0;32m    194\u001b[0m \u001b[38;5;28;01mdef\u001b[39;00m \u001b[38;5;21m_cross_validate_circuits_observables\u001b[39m(\n\u001b[0;32m    195\u001b[0m     circuits: \u001b[38;5;28mtuple\u001b[39m[QuantumCircuit, \u001b[38;5;241m.\u001b[39m\u001b[38;5;241m.\u001b[39m\u001b[38;5;241m.\u001b[39m], observables: \u001b[38;5;28mtuple\u001b[39m[BaseOperator \u001b[38;5;241m|\u001b[39m PauliSumOp, \u001b[38;5;241m.\u001b[39m\u001b[38;5;241m.\u001b[39m\u001b[38;5;241m.\u001b[39m]\n\u001b[0;32m    196\u001b[0m ) \u001b[38;5;241m-\u001b[39m\u001b[38;5;241m>\u001b[39m \u001b[38;5;28;01mNone\u001b[39;00m:\n\u001b[0;32m    197\u001b[0m     \u001b[38;5;28;01mif\u001b[39;00m \u001b[38;5;28mlen\u001b[39m(circuits) \u001b[38;5;241m!=\u001b[39m \u001b[38;5;28mlen\u001b[39m(observables):\n\u001b[1;32m--> 198\u001b[0m         \u001b[38;5;28;01mraise\u001b[39;00m \u001b[38;5;167;01mValueError\u001b[39;00m(\n\u001b[0;32m    199\u001b[0m             \u001b[38;5;124mf\u001b[39m\u001b[38;5;124m\"\u001b[39m\u001b[38;5;124mThe number of circuits (\u001b[39m\u001b[38;5;132;01m{\u001b[39;00m\u001b[38;5;28mlen\u001b[39m(circuits)\u001b[38;5;132;01m}\u001b[39;00m\u001b[38;5;124m) does not match \u001b[39m\u001b[38;5;124m\"\u001b[39m\n\u001b[0;32m    200\u001b[0m             \u001b[38;5;124mf\u001b[39m\u001b[38;5;124m\"\u001b[39m\u001b[38;5;124mthe number of observables (\u001b[39m\u001b[38;5;132;01m{\u001b[39;00m\u001b[38;5;28mlen\u001b[39m(observables)\u001b[38;5;132;01m}\u001b[39;00m\u001b[38;5;124m).\u001b[39m\u001b[38;5;124m\"\u001b[39m\n\u001b[0;32m    201\u001b[0m         )\n\u001b[0;32m    202\u001b[0m     \u001b[38;5;28;01mfor\u001b[39;00m i, (circuit, observable) \u001b[38;5;129;01min\u001b[39;00m \u001b[38;5;28menumerate\u001b[39m(\u001b[38;5;28mzip\u001b[39m(circuits, observables)):\n\u001b[0;32m    203\u001b[0m         \u001b[38;5;28;01mif\u001b[39;00m circuit\u001b[38;5;241m.\u001b[39mnum_qubits \u001b[38;5;241m!=\u001b[39m observable\u001b[38;5;241m.\u001b[39mnum_qubits:\n",
      "\u001b[1;31mValueError\u001b[0m: The number of circuits (1000) does not match the number of observables (1)."
     ]
    }
   ],
   "source": [
    "import qiskit\n",
    "from qiskit import QuantumCircuit\n",
    "from qiskit.primitives import Estimator\n",
    "\n",
    "def n_run_qubit(n = 10):\n",
    "    qc = QuantumCircuit(n)\n",
    "    qc.h(0)\n",
    "    for i in range(n - 1):\n",
    "        qc.cx(i, i + 1)\n",
    "    return qc\n",
    "\n",
    "def estimate_noise(n, distance):\n",
    "    qc = n_run_qubit(n)\n",
    "    qc.barrier()\n",
    "    qc.rz(distance, n - 1)\n",
    "    return Estimator().run([qc] * 1000, ['Z']).result().get_counts(qc)['1']\n",
    "\n",
    "distances = np.arange(0, 10)\n",
    "\n",
    "estimates = [estimate_noise(10, distance) for distance in distances]\n",
    "\n",
    "print(estimates)\n"
   ]
  },
  {
   "cell_type": "code",
   "execution_count": null,
   "metadata": {},
   "outputs": [
    {
     "ename": "ModuleNotFoundError",
     "evalue": "No module named 'qiskit_ibm_runtime'",
     "output_type": "error",
     "traceback": [
      "\u001b[1;31m---------------------------------------------------------------------------\u001b[0m",
      "\u001b[1;31mModuleNotFoundError\u001b[0m                       Traceback (most recent call last)",
      "Cell \u001b[1;32mIn[6], line 1\u001b[0m\n\u001b[1;32m----> 1\u001b[0m \u001b[38;5;28;01mfrom\u001b[39;00m \u001b[38;5;21;01mqiskit_ibm_runtime\u001b[39;00m \u001b[38;5;28;01mimport\u001b[39;00m QiskitRuntimeService\n",
      "\u001b[1;31mModuleNotFoundError\u001b[0m: No module named 'qiskit_ibm_runtime'"
     ]
    }
   ],
   "source": [
    "from qiskit_ibm_runtime import QiskitRuntimeService\n",
    "\n"
   ]
  }
 ],
 "metadata": {
  "kernelspec": {
   "display_name": "Python 3",
   "language": "python",
   "name": "python3"
  },
  "language_info": {
   "codemirror_mode": {
    "name": "ipython",
    "version": 3
   },
   "file_extension": ".py",
   "mimetype": "text/x-python",
   "name": "python",
   "nbconvert_exporter": "python",
   "pygments_lexer": "ipython3",
   "version": "3.12.3"
  }
 },
 "nbformat": 4,
 "nbformat_minor": 2
}
